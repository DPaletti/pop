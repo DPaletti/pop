{
 "cells": [
  {
   "cell_type": "markdown",
   "id": "4efbb48b",
   "metadata": {},
   "source": [
    "# Evaluation Scratch Book\n",
    "Experiments and stuff to be later removed."
   ]
  },
  {
   "cell_type": "markdown",
   "id": "d35358ad",
   "metadata": {},
   "source": [
    "## Imports"
   ]
  },
  {
   "cell_type": "code",
   "execution_count": 1,
   "id": "e7325f0d",
   "metadata": {},
   "outputs": [],
   "source": [
    "import grid2op\n",
    "from grid2op.utils import ScoreL2RPN2022\n",
    "from grid2op.Agent import DoNothingAgent\n",
    "import pandas as pd\n",
    "from pathlib import Path"
   ]
  },
  {
   "cell_type": "markdown",
   "id": "5d2e39d8",
   "metadata": {},
   "source": [
    "## Settings"
   ]
  },
  {
   "cell_type": "code",
   "execution_count": 2,
   "id": "f62117c9",
   "metadata": {},
   "outputs": [],
   "source": [
    "env_name = \"rte_case14_realistic_val10\"\n",
    "difficulty = 2\n",
    "episodes = 100\n",
    "save_path = \"/home/l2rpn/data/evaluation/do_nothing_rte_case14_realistic\"\n",
    "processes = 14"
   ]
  },
  {
   "cell_type": "markdown",
   "id": "5315c5ec",
   "metadata": {},
   "source": [
    "## Initialization"
   ]
  },
  {
   "cell_type": "markdown",
   "id": "0129c2b8",
   "metadata": {},
   "source": [
    "### Environment"
   ]
  },
  {
   "cell_type": "code",
   "execution_count": 27,
   "id": "08bc494a",
   "metadata": {},
   "outputs": [],
   "source": [
    "env = grid2op.make(env_name, difficulty=difficulty)"
   ]
  },
  {
   "cell_type": "markdown",
   "id": "792a0ba7",
   "metadata": {},
   "source": [
    "### Agent"
   ]
  },
  {
   "cell_type": "code",
   "execution_count": 28,
   "id": "d0665ad9",
   "metadata": {},
   "outputs": [],
   "source": [
    "agent = DoNothingAgent(env.action_space)"
   ]
  },
  {
   "cell_type": "markdown",
   "id": "8f298094",
   "metadata": {},
   "source": [
    "## Score Computation"
   ]
  },
  {
   "cell_type": "code",
   "execution_count": 29,
   "id": "b93b4f80",
   "metadata": {},
   "outputs": [],
   "source": [
    "score = ScoreL2RPN2022(env,nb_scenario=episodes, verbose=1)"
   ]
  },
  {
   "cell_type": "code",
   "execution_count": 30,
   "id": "208b0a56",
   "metadata": {},
   "outputs": [
    {
     "name": "stdout",
     "output_type": "stream",
     "text": [
      "Starts the evaluation of the agent\n",
      "Start the evaluation of the scores\n"
     ]
    }
   ],
   "source": [
    "agent_score = score.get(agent, nb_process = processes)\n",
    "agent_score_df = pd.DataFrame(agent_score).transpose()\n",
    "agent_score_df.columns = [\"all_scores\", \"ts_survived\", \"total_ts\"]"
   ]
  },
  {
   "cell_type": "code",
   "execution_count": 31,
   "id": "e2f09b62",
   "metadata": {},
   "outputs": [
    {
     "data": {
      "text/html": [
       "<div>\n",
       "<style scoped>\n",
       "    .dataframe tbody tr th:only-of-type {\n",
       "        vertical-align: middle;\n",
       "    }\n",
       "\n",
       "    .dataframe tbody tr th {\n",
       "        vertical-align: top;\n",
       "    }\n",
       "\n",
       "    .dataframe thead th {\n",
       "        text-align: right;\n",
       "    }\n",
       "</style>\n",
       "<table border=\"1\" class=\"dataframe\">\n",
       "  <thead>\n",
       "    <tr style=\"text-align: right;\">\n",
       "      <th></th>\n",
       "      <th>all_scores</th>\n",
       "      <th>ts_survived</th>\n",
       "      <th>total_ts</th>\n",
       "    </tr>\n",
       "  </thead>\n",
       "  <tbody>\n",
       "    <tr>\n",
       "      <th>0</th>\n",
       "      <td>0.0</td>\n",
       "      <td>1097.0</td>\n",
       "      <td>8064.0</td>\n",
       "    </tr>\n",
       "    <tr>\n",
       "      <th>1</th>\n",
       "      <td>0.0</td>\n",
       "      <td>3399.0</td>\n",
       "      <td>8064.0</td>\n",
       "    </tr>\n",
       "    <tr>\n",
       "      <th>2</th>\n",
       "      <td>0.0</td>\n",
       "      <td>1099.0</td>\n",
       "      <td>8064.0</td>\n",
       "    </tr>\n",
       "    <tr>\n",
       "      <th>3</th>\n",
       "      <td>0.0</td>\n",
       "      <td>377.0</td>\n",
       "      <td>8064.0</td>\n",
       "    </tr>\n",
       "    <tr>\n",
       "      <th>4</th>\n",
       "      <td>0.0</td>\n",
       "      <td>809.0</td>\n",
       "      <td>8064.0</td>\n",
       "    </tr>\n",
       "    <tr>\n",
       "      <th>...</th>\n",
       "      <td>...</td>\n",
       "      <td>...</td>\n",
       "      <td>...</td>\n",
       "    </tr>\n",
       "    <tr>\n",
       "      <th>95</th>\n",
       "      <td>0.0</td>\n",
       "      <td>521.0</td>\n",
       "      <td>8064.0</td>\n",
       "    </tr>\n",
       "    <tr>\n",
       "      <th>96</th>\n",
       "      <td>0.0</td>\n",
       "      <td>511.0</td>\n",
       "      <td>8064.0</td>\n",
       "    </tr>\n",
       "    <tr>\n",
       "      <th>97</th>\n",
       "      <td>0.0</td>\n",
       "      <td>1102.0</td>\n",
       "      <td>8064.0</td>\n",
       "    </tr>\n",
       "    <tr>\n",
       "      <th>98</th>\n",
       "      <td>0.0</td>\n",
       "      <td>522.0</td>\n",
       "      <td>8064.0</td>\n",
       "    </tr>\n",
       "    <tr>\n",
       "      <th>99</th>\n",
       "      <td>0.0</td>\n",
       "      <td>387.0</td>\n",
       "      <td>8064.0</td>\n",
       "    </tr>\n",
       "  </tbody>\n",
       "</table>\n",
       "<p>100 rows × 3 columns</p>\n",
       "</div>"
      ],
      "text/plain": [
       "    all_scores  ts_survived  total_ts\n",
       "0          0.0       1097.0    8064.0\n",
       "1          0.0       3399.0    8064.0\n",
       "2          0.0       1099.0    8064.0\n",
       "3          0.0        377.0    8064.0\n",
       "4          0.0        809.0    8064.0\n",
       "..         ...          ...       ...\n",
       "95         0.0        521.0    8064.0\n",
       "96         0.0        511.0    8064.0\n",
       "97         0.0       1102.0    8064.0\n",
       "98         0.0        522.0    8064.0\n",
       "99         0.0        387.0    8064.0\n",
       "\n",
       "[100 rows x 3 columns]"
      ]
     },
     "execution_count": 31,
     "metadata": {},
     "output_type": "execute_result"
    }
   ],
   "source": [
    "agent_score_df"
   ]
  },
  {
   "cell_type": "code",
   "execution_count": 32,
   "id": "eca99ef6",
   "metadata": {},
   "outputs": [],
   "source": [
    "agent_score_df.to_csv(Path(save_path, \"l2rpn_2022_score_\" + str(difficulty) + \".csv\"))"
   ]
  },
  {
   "cell_type": "markdown",
   "id": "fc5ea8ba",
   "metadata": {},
   "source": [
    "## Score Evaluation"
   ]
  },
  {
   "cell_type": "code",
   "execution_count": 3,
   "id": "26f3fde7",
   "metadata": {},
   "outputs": [
    {
     "ename": "SyntaxError",
     "evalue": "invalid syntax (2684874982.py, line 2)",
     "output_type": "error",
     "traceback": [
      "\u001b[0;36m  Input \u001b[0;32mIn [3]\u001b[0;36m\u001b[0m\n\u001b[0;31m    d for d in [0, 1, 2, \"competition\"]:\u001b[0m\n\u001b[0m      ^\u001b[0m\n\u001b[0;31mSyntaxError\u001b[0m\u001b[0;31m:\u001b[0m invalid syntax\n"
     ]
    }
   ],
   "source": [
    "scores = []\n",
    "d for d in [0, 1, 2, \"competition\"]:\n",
    "    scores.append(pd.load_csv(Path(save_path, \"l2rpn_2022_score_\" + str(d) + \".csv\")))"
   ]
  }
 ],
 "metadata": {
  "kernelspec": {
   "display_name": "Python 3 (ipykernel)",
   "language": "python",
   "name": "python3"
  },
  "language_info": {
   "codemirror_mode": {
    "name": "ipython",
    "version": 3
   },
   "file_extension": ".py",
   "mimetype": "text/x-python",
   "name": "python",
   "nbconvert_exporter": "python",
   "pygments_lexer": "ipython3",
   "version": "3.8.10"
  }
 },
 "nbformat": 4,
 "nbformat_minor": 5
}
